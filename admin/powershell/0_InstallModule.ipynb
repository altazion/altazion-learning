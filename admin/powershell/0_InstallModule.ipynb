{
    "metadata": {
        "kernelspec": {
            "name": "powershell",
            "display_name": "PowerShell"
        },
        "language_info": {
            "name": "powershell",
            "codemirror_mode": "shell",
            "mimetype": "text/x-sh",
            "file_extension": ".ps1"
        }
    },
    "nbformat_minor": 2,
    "nbformat": 4,
    "cells": [
        {
            "cell_type": "markdown",
            "source": [
                "# Configurer votre environnement\r\n",
                "\r\n",
                "Le module Powershell pour Altazion est disponible en tant que package sur Powershell Gallery ([https://www.powershellgallery.com/](https://www.powershellgallery.com/)). Vous pouvez utiliser les commandes standards de Powershell 5+ pour mettre en place facilement votre environnement.\r\n",
                "\r\n",
                "## Installation du module\r\n",
                "\r\n",
                "Si vous ne l'avez pas encore fait, vous pouvez ajouter PSGallery à la liste des repositories de confiance avec la commande :"
            ],
            "metadata": {
                "azdata_cell_guid": "1b0a8e1f-46f0-4689-9c15-d058f0278488"
            }
        },
        {
            "cell_type": "code",
            "source": [
                "Set-PSRepository -Name 'PSGallery' -InstallationPolicy Trusted"
            ],
            "metadata": {
                "azdata_cell_guid": "6af0c105-9b3f-4324-8dec-83ff41573e04"
            },
            "outputs": [],
            "execution_count": 0
        },
        {
            "cell_type": "markdown",
            "source": [
                "Vous pouvez aussi, bien évidemment, ne pas autoriser intégralement PSGallery, vous serez alors amené à confirmer votre approbation lors des commandes d'installation et/ou de mise à jour des modules qui y sont publiés.\n",
                "\n",
                "Pour installer le module Altazion, il vous suffit d'utiliser les Cmdlet `Install-Module` et `Import-Module`."
            ],
            "metadata": {
                "azdata_cell_guid": "0e6373c0-a1f3-4116-aab3-08e7be095e04"
            }
        },
        {
            "cell_type": "code",
            "source": [
                "Install-Module Altazion -Scope CurrentUser\r\n",
                "Import-Module Altazion"
            ],
            "metadata": {
                "azdata_cell_guid": "bcde24c4-272c-4758-880c-35a98f185a3b"
            },
            "outputs": [],
            "execution_count": 0
        },
        {
            "cell_type": "markdown",
            "source": [
                "## Connexion à votre environnement\r\n",
                "\r\n",
                "Pour tous les scripts ou presque, vous aurez besoin d'être connecté à votre compte utilisateur Altazion. La commande `Connect-AltazionServer` vous permet d'établir facilement cette connexion et de sauvegarder automatiquement les identifiants. \r\n",
                "Vous pouvez utiliser l'une ou l'autres des deux syntaxes suivantes :\r\n",
                "- en utilisant une boite de dialogue de saisie des identifiants :  "
            ],
            "metadata": {
                "azdata_cell_guid": "e0e77ba5-1d98-41ec-90d0-d373a09ddf94"
            }
        },
        {
            "cell_type": "code",
            "source": [
                "$cred = Get-Credential\r\n",
                "Connect-AltazionServer -Credentials $cred"
            ],
            "metadata": {
                "azdata_cell_guid": "c87d854b-1b8a-4996-98d9-1e8028191529"
            },
            "outputs": [],
            "execution_count": 2
        },
        {
            "cell_type": "markdown",
            "source": [
                "- en saisissant directement vos identifiants dans la ligne de commande"
            ],
            "metadata": {
                "azdata_cell_guid": "63881f5f-535a-40e6-a855-d7b135dd4c89"
            }
        },
        {
            "cell_type": "code",
            "source": [
                "Connect-AltazionServer -Username administrateur@altazion-learning.com -Password '<<password>>'"
            ],
            "metadata": {
                "azdata_cell_guid": "1c06992b-c5c6-4442-a0a0-8273ecf76524"
            },
            "outputs": [],
            "execution_count": 1
        }
    ]
}