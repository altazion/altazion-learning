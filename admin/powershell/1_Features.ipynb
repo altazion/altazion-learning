{
    "metadata": {
        "kernelspec": {
            "name": "SQL",
            "display_name": "SQL",
            "language": "sql"
        },
        "language_info": {
            "name": "sql",
            "version": ""
        }
    },
    "nbformat_minor": 2,
    "nbformat": 4,
    "cells": [
        {
            "cell_type": "markdown",
            "source": [
                "Si vous ne l'avez pas encore fait, la première étape est d'installer le module Powershell pour Altazion. Pour cela, nous vous invitons à consulter la première étape de cette formation :\n",
                "[Installer et configurer votre environnement](0_InstallModule.ipynb)"
            ],
            "metadata": {
                "azdata_cell_guid": "9bc4cd78-8875-4c5a-b855-3e9e8143f3b6",
                "tags": [
                    "hide_input"
                ]
            }
        }
    ]
}